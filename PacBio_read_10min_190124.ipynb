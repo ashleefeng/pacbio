{
 "cells": [
  {
   "cell_type": "code",
   "execution_count": 1,
   "metadata": {},
   "outputs": [],
   "source": [
    "import numpy as np\n",
    "import h5py\n",
    "import matplotlib.pyplot as plt\n",
    "import xml.etree.ElementTree as ET"
   ]
  },
  {
   "cell_type": "code",
   "execution_count": 2,
   "metadata": {},
   "outputs": [],
   "source": [
    "from time import time\n",
    "from sklearn import metrics\n",
    "from sklearn.cluster import KMeans\n",
    "from sklearn.datasets import load_digits\n",
    "from sklearn.decomposition import PCA\n",
    "from sklearn.preprocessing import scale"
   ]
  },
  {
   "cell_type": "markdown",
   "metadata": {},
   "source": [
    "## User input"
   ]
  },
  {
   "cell_type": "code",
   "execution_count": 3,
   "metadata": {},
   "outputs": [],
   "source": [
    "sample_prefix = 'Z:\\\\Ashlee\\\\pacbio_temp\\\\20190124_B2_nucleosomes\\\\B2_100X\\\\m190124_164714_42131_c000469382559900001500000112312160_s1_p0'"
   ]
  },
  {
   "cell_type": "markdown",
   "metadata": {},
   "source": [
    "## Load data"
   ]
  },
  {
   "cell_type": "code",
   "execution_count": 4,
   "metadata": {},
   "outputs": [
    {
     "ename": "OSError",
     "evalue": "Unable to open file (unable to open file: name = 'Z:\\Ashlee\\pacbio_temp\\20190124_B2_nucleosomes\\B2_100X\\m190124_164714_42131_c000469382559900001500000112312160_s1_p0.trc.h5', errno = 13, error message = 'Permission denied', flags = 0, o_flags = 0)",
     "output_type": "error",
     "traceback": [
      "\u001b[1;31m---------------------------------------------------------------------------\u001b[0m",
      "\u001b[1;31mOSError\u001b[0m                                   Traceback (most recent call last)",
      "\u001b[1;32m<ipython-input-4-4afe6ff4f9d1>\u001b[0m in \u001b[0;36m<module>\u001b[1;34m()\u001b[0m\n\u001b[0;32m      4\u001b[0m \u001b[0mmeta_filename\u001b[0m \u001b[1;33m=\u001b[0m \u001b[0msample_prefix\u001b[0m \u001b[1;33m+\u001b[0m \u001b[1;34m'.metadata.xml'\u001b[0m\u001b[1;33m\u001b[0m\u001b[0m\n\u001b[0;32m      5\u001b[0m \u001b[1;33m\u001b[0m\u001b[0m\n\u001b[1;32m----> 6\u001b[1;33m \u001b[0mtrc_file\u001b[0m \u001b[1;33m=\u001b[0m \u001b[0mh5py\u001b[0m\u001b[1;33m.\u001b[0m\u001b[0mFile\u001b[0m\u001b[1;33m(\u001b[0m\u001b[0mtrc_filename\u001b[0m\u001b[1;33m,\u001b[0m \u001b[1;34m'r'\u001b[0m\u001b[1;33m)\u001b[0m\u001b[1;33m\u001b[0m\u001b[0m\n\u001b[0m\u001b[0;32m      7\u001b[0m \u001b[0mmcd_file\u001b[0m \u001b[1;33m=\u001b[0m \u001b[0mh5py\u001b[0m\u001b[1;33m.\u001b[0m\u001b[0mFile\u001b[0m\u001b[1;33m(\u001b[0m\u001b[0mmcd_filename\u001b[0m\u001b[1;33m,\u001b[0m \u001b[1;34m'r'\u001b[0m\u001b[1;33m)\u001b[0m\u001b[1;33m\u001b[0m\u001b[0m\n\u001b[0;32m      8\u001b[0m \u001b[0mupd_file\u001b[0m \u001b[1;33m=\u001b[0m \u001b[0mh5py\u001b[0m\u001b[1;33m.\u001b[0m\u001b[0mFile\u001b[0m\u001b[1;33m(\u001b[0m\u001b[0mupd_filename\u001b[0m\u001b[1;33m,\u001b[0m \u001b[1;34m'r'\u001b[0m\u001b[1;33m)\u001b[0m\u001b[1;33m\u001b[0m\u001b[0m\n",
      "\u001b[1;32mE:\\Ashlee\\Program_Files\\Anaconda\\lib\\site-packages\\h5py\\_hl\\files.py\u001b[0m in \u001b[0;36m__init__\u001b[1;34m(self, name, mode, driver, libver, userblock_size, swmr, **kwds)\u001b[0m\n\u001b[0;32m    310\u001b[0m             \u001b[1;32mwith\u001b[0m \u001b[0mphil\u001b[0m\u001b[1;33m:\u001b[0m\u001b[1;33m\u001b[0m\u001b[0m\n\u001b[0;32m    311\u001b[0m                 \u001b[0mfapl\u001b[0m \u001b[1;33m=\u001b[0m \u001b[0mmake_fapl\u001b[0m\u001b[1;33m(\u001b[0m\u001b[0mdriver\u001b[0m\u001b[1;33m,\u001b[0m \u001b[0mlibver\u001b[0m\u001b[1;33m,\u001b[0m \u001b[1;33m**\u001b[0m\u001b[0mkwds\u001b[0m\u001b[1;33m)\u001b[0m\u001b[1;33m\u001b[0m\u001b[0m\n\u001b[1;32m--> 312\u001b[1;33m                 \u001b[0mfid\u001b[0m \u001b[1;33m=\u001b[0m \u001b[0mmake_fid\u001b[0m\u001b[1;33m(\u001b[0m\u001b[0mname\u001b[0m\u001b[1;33m,\u001b[0m \u001b[0mmode\u001b[0m\u001b[1;33m,\u001b[0m \u001b[0muserblock_size\u001b[0m\u001b[1;33m,\u001b[0m \u001b[0mfapl\u001b[0m\u001b[1;33m,\u001b[0m \u001b[0mswmr\u001b[0m\u001b[1;33m=\u001b[0m\u001b[0mswmr\u001b[0m\u001b[1;33m)\u001b[0m\u001b[1;33m\u001b[0m\u001b[0m\n\u001b[0m\u001b[0;32m    313\u001b[0m \u001b[1;33m\u001b[0m\u001b[0m\n\u001b[0;32m    314\u001b[0m                 \u001b[1;32mif\u001b[0m \u001b[0mswmr_support\u001b[0m\u001b[1;33m:\u001b[0m\u001b[1;33m\u001b[0m\u001b[0m\n",
      "\u001b[1;32mE:\\Ashlee\\Program_Files\\Anaconda\\lib\\site-packages\\h5py\\_hl\\files.py\u001b[0m in \u001b[0;36mmake_fid\u001b[1;34m(name, mode, userblock_size, fapl, fcpl, swmr)\u001b[0m\n\u001b[0;32m    140\u001b[0m         \u001b[1;32mif\u001b[0m \u001b[0mswmr\u001b[0m \u001b[1;32mand\u001b[0m \u001b[0mswmr_support\u001b[0m\u001b[1;33m:\u001b[0m\u001b[1;33m\u001b[0m\u001b[0m\n\u001b[0;32m    141\u001b[0m             \u001b[0mflags\u001b[0m \u001b[1;33m|=\u001b[0m \u001b[0mh5f\u001b[0m\u001b[1;33m.\u001b[0m\u001b[0mACC_SWMR_READ\u001b[0m\u001b[1;33m\u001b[0m\u001b[0m\n\u001b[1;32m--> 142\u001b[1;33m         \u001b[0mfid\u001b[0m \u001b[1;33m=\u001b[0m \u001b[0mh5f\u001b[0m\u001b[1;33m.\u001b[0m\u001b[0mopen\u001b[0m\u001b[1;33m(\u001b[0m\u001b[0mname\u001b[0m\u001b[1;33m,\u001b[0m \u001b[0mflags\u001b[0m\u001b[1;33m,\u001b[0m \u001b[0mfapl\u001b[0m\u001b[1;33m=\u001b[0m\u001b[0mfapl\u001b[0m\u001b[1;33m)\u001b[0m\u001b[1;33m\u001b[0m\u001b[0m\n\u001b[0m\u001b[0;32m    143\u001b[0m     \u001b[1;32melif\u001b[0m \u001b[0mmode\u001b[0m \u001b[1;33m==\u001b[0m \u001b[1;34m'r+'\u001b[0m\u001b[1;33m:\u001b[0m\u001b[1;33m\u001b[0m\u001b[0m\n\u001b[0;32m    144\u001b[0m         \u001b[0mfid\u001b[0m \u001b[1;33m=\u001b[0m \u001b[0mh5f\u001b[0m\u001b[1;33m.\u001b[0m\u001b[0mopen\u001b[0m\u001b[1;33m(\u001b[0m\u001b[0mname\u001b[0m\u001b[1;33m,\u001b[0m \u001b[0mh5f\u001b[0m\u001b[1;33m.\u001b[0m\u001b[0mACC_RDWR\u001b[0m\u001b[1;33m,\u001b[0m \u001b[0mfapl\u001b[0m\u001b[1;33m=\u001b[0m\u001b[0mfapl\u001b[0m\u001b[1;33m)\u001b[0m\u001b[1;33m\u001b[0m\u001b[0m\n",
      "\u001b[1;32mh5py\\_objects.pyx\u001b[0m in \u001b[0;36mh5py._objects.with_phil.wrapper\u001b[1;34m()\u001b[0m\n",
      "\u001b[1;32mh5py\\_objects.pyx\u001b[0m in \u001b[0;36mh5py._objects.with_phil.wrapper\u001b[1;34m()\u001b[0m\n",
      "\u001b[1;32mh5py\\h5f.pyx\u001b[0m in \u001b[0;36mh5py.h5f.open\u001b[1;34m()\u001b[0m\n",
      "\u001b[1;31mOSError\u001b[0m: Unable to open file (unable to open file: name = 'Z:\\Ashlee\\pacbio_temp\\20190124_B2_nucleosomes\\B2_100X\\m190124_164714_42131_c000469382559900001500000112312160_s1_p0.trc.h5', errno = 13, error message = 'Permission denied', flags = 0, o_flags = 0)"
     ]
    }
   ],
   "source": [
    "trc_filename = sample_prefix + '.trc.h5'\n",
    "mcd_filename = sample_prefix + '.mcd.h5'\n",
    "upd_filename = sample_prefix + '.upd.h5'\n",
    "meta_filename = sample_prefix + '.metadata.xml'\n",
    "\n",
    "trc_file = h5py.File(trc_filename, 'r')\n",
    "mcd_file = h5py.File(mcd_filename, 'r')\n",
    "upd_file = h5py.File(upd_filename, 'r')\n",
    "\n",
    "# Load data in trace file\n",
    "dset = trc_file['TraceData']\n",
    "raw_traces = dset['Traces']\n",
    "decode = dset['Codec']['Decode']\n",
    "n_traces = raw_traces.shape[0]\n",
    "n_frames = raw_traces.shape[2]\n",
    "decode_array = np.array(decode)\n",
    "\n",
    "# Load data in upd file\n",
    "upd_TD = upd_file['TraceData']\n",
    "hole_xy_plot = upd_TD['HoleXYPlot'] # (x,y) coordinates for each well\n",
    "hole_status = upd_TD['HoleStatus'] # fiducials\n",
    "\n",
    "# Extract frame rate from metadata\n",
    "meta_tree = ET.parse(meta_filename)\n",
    "root = meta_tree.getroot()\n",
    "for keyval in root.iter('{http://pacificbiosciences.com/PAP/Metadata.xsd}KeyValue'):\n",
    "    if keyval.attrib['key'] == 'MovieFPS':\n",
    "        fps = int(keyval.text)\n",
    "        frame_rate = 1.0/fps # seconds\n",
    "        break\n",
    "\n",
    "# For plotting\n",
    "time_axis = np.arange(n_frames)*frame_rate\n",
    "colors = ['green', (0, 1, 0), 'red', 'orange']\n",
    "lasers = ['Cy3', 'Cy3.5', 'Cy5', 'Cy5.5']"
   ]
  },
  {
   "cell_type": "code",
   "execution_count": null,
   "metadata": {},
   "outputs": [],
   "source": [
    "traces = raw_traces # skipping decode step to save memory"
   ]
  },
  {
   "cell_type": "markdown",
   "metadata": {},
   "source": [
    "## Plot intensity distributions"
   ]
  },
  {
   "cell_type": "code",
   "execution_count": null,
   "metadata": {},
   "outputs": [],
   "source": [
    "avg_intens = np.mean(traces, axis=2)"
   ]
  },
  {
   "cell_type": "code",
   "execution_count": null,
   "metadata": {
    "scrolled": false
   },
   "outputs": [],
   "source": [
    "for i in range(4):\n",
    "    avg_intens_i = avg_intens.T[i]\n",
    "    min_i = min(avg_intens_i)\n",
    "    max_i = max(avg_intens_i)\n",
    "    plt.hist(avg_intens_i, bins=100, range=[min_i, max_i], histtype='step', color=colors[i])\n",
    "    \n",
    "    \n",
    "plt.xlabel('Intensity')\n",
    "plt.ylabel('Count')\n",
    "plt.legend(lasers)"
   ]
  },
  {
   "cell_type": "code",
   "execution_count": 5,
   "metadata": {},
   "outputs": [
    {
     "ename": "NameError",
     "evalue": "name 'hole_xy_plot' is not defined",
     "output_type": "error",
     "traceback": [
      "\u001b[1;31m---------------------------------------------------------------------------\u001b[0m",
      "\u001b[1;31mNameError\u001b[0m                                 Traceback (most recent call last)",
      "\u001b[1;32m<ipython-input-5-18a6b724c56c>\u001b[0m in \u001b[0;36m<module>\u001b[1;34m()\u001b[0m\n\u001b[0;32m      9\u001b[0m \u001b[1;32mfor\u001b[0m \u001b[0mi\u001b[0m \u001b[1;32min\u001b[0m \u001b[0mrange\u001b[0m\u001b[1;33m(\u001b[0m\u001b[1;36m4\u001b[0m\u001b[1;33m)\u001b[0m\u001b[1;33m:\u001b[0m\u001b[1;33m\u001b[0m\u001b[0m\n\u001b[0;32m     10\u001b[0m     \u001b[0mplt\u001b[0m\u001b[1;33m.\u001b[0m\u001b[0msubplot\u001b[0m\u001b[1;33m(\u001b[0m\u001b[1;36m2\u001b[0m\u001b[1;33m,\u001b[0m \u001b[1;36m2\u001b[0m\u001b[1;33m,\u001b[0m \u001b[0mi\u001b[0m\u001b[1;33m+\u001b[0m\u001b[1;36m1\u001b[0m\u001b[1;33m)\u001b[0m\u001b[1;33m\u001b[0m\u001b[0m\n\u001b[1;32m---> 11\u001b[1;33m     \u001b[0mplt\u001b[0m\u001b[1;33m.\u001b[0m\u001b[0mscatter\u001b[0m\u001b[1;33m(\u001b[0m\u001b[0mhole_xy_plot\u001b[0m\u001b[1;33m[\u001b[0m\u001b[1;33m:\u001b[0m\u001b[1;33m,\u001b[0m \u001b[1;36m0\u001b[0m\u001b[1;33m]\u001b[0m\u001b[1;33m,\u001b[0m \u001b[0mhole_xy_plot\u001b[0m\u001b[1;33m[\u001b[0m\u001b[1;33m:\u001b[0m\u001b[1;33m,\u001b[0m \u001b[1;36m1\u001b[0m\u001b[1;33m]\u001b[0m\u001b[1;33m,\u001b[0m \u001b[0mhole_status\u001b[0m\u001b[1;33m)\u001b[0m\u001b[1;33m\u001b[0m\u001b[0m\n\u001b[0m\u001b[0;32m     12\u001b[0m     \u001b[0mplt\u001b[0m\u001b[1;33m.\u001b[0m\u001b[0mscatter\u001b[0m\u001b[1;33m(\u001b[0m\u001b[0mhole_xy_plot\u001b[0m\u001b[1;33m[\u001b[0m\u001b[1;33m:\u001b[0m\u001b[1;33m,\u001b[0m \u001b[1;36m0\u001b[0m\u001b[1;33m]\u001b[0m\u001b[1;33m,\u001b[0m \u001b[0mhole_xy_plot\u001b[0m\u001b[1;33m[\u001b[0m\u001b[1;33m:\u001b[0m\u001b[1;33m,\u001b[0m \u001b[1;36m1\u001b[0m\u001b[1;33m]\u001b[0m\u001b[1;33m,\u001b[0m \u001b[1;36m1\u001b[0m\u001b[1;33m,\u001b[0m \u001b[0mavg_intens\u001b[0m\u001b[1;33m.\u001b[0m\u001b[0mT\u001b[0m\u001b[1;33m[\u001b[0m\u001b[0mi\u001b[0m\u001b[1;33m]\u001b[0m\u001b[1;33m)\u001b[0m\u001b[1;33m\u001b[0m\u001b[0m\n\u001b[0;32m     13\u001b[0m     \u001b[0mplt\u001b[0m\u001b[1;33m.\u001b[0m\u001b[0mtitle\u001b[0m\u001b[1;33m(\u001b[0m\u001b[0mlasers\u001b[0m\u001b[1;33m[\u001b[0m\u001b[0mi\u001b[0m\u001b[1;33m]\u001b[0m \u001b[1;33m+\u001b[0m \u001b[1;34m' intensity'\u001b[0m\u001b[1;33m)\u001b[0m\u001b[1;33m\u001b[0m\u001b[0m\n",
      "\u001b[1;31mNameError\u001b[0m: name 'hole_xy_plot' is not defined"
     ]
    },
    {
     "data": {
      "image/png": "[encoded data removed]",
      "text/plain": [
       "<Figure size 1008x792 with 1 Axes>"
      ]
     },
     "metadata": {
      "needs_background": "light"
     },
     "output_type": "display_data"
    }
   ],
   "source": [
    "# for i in range(4):\n",
    "#     plt.figure()\n",
    "#     plt.scatter(hole_xy_plot[:, 0], hole_xy_plot[:, 1], hole_status)\n",
    "#     plt.scatter(hole_xy_plot[:, 0], hole_xy_plot[:, 1], 1, avg_intens.T[i]/300)\n",
    "#     plt.title(lasers[i] + ' intensity')\n",
    "#     plt.show()\n",
    "\n",
    "plt.figure(figsize=(14, 11))\n",
    "for i in range(4):\n",
    "    plt.subplot(2, 2, i+1)\n",
    "    plt.scatter(hole_xy_plot[:, 0], hole_xy_plot[:, 1], hole_status)\n",
    "    plt.scatter(hole_xy_plot[:, 0], hole_xy_plot[:, 1], 1, avg_intens.T[i])\n",
    "    plt.title(lasers[i] + ' intensity')\n",
    "    plt.colorbar()\n",
    "\n",
    "plt.savefig(sample_prefix + '_grid.png')\n",
    "plt.show()"
   ]
  },
  {
   "cell_type": "markdown",
   "metadata": {},
   "source": [
    "## Plot variance distributions"
   ]
  },
  {
   "cell_type": "code",
   "execution_count": null,
   "metadata": {},
   "outputs": [],
   "source": [
    "# var = np.log10(np.var(traces, axis=2) + 1e-6)"
   ]
  },
  {
   "cell_type": "code",
   "execution_count": null,
   "metadata": {},
   "outputs": [],
   "source": [
    "# for i in range(4):\n",
    "#     var_i = var.T[i]\n",
    "#     min_i = 0\n",
    "#     max_i = max(var_i)\n",
    "#     plt.hist(var_i, bins=100, range=[min_i, max_i], histtype='step', color=colors[i])\n",
    "    \n",
    "# plt.xlabel('log10(Variance)')\n",
    "# plt.ylabel('Count')\n",
    "# plt.legend(lasers)"
   ]
  },
  {
   "cell_type": "code",
   "execution_count": null,
   "metadata": {},
   "outputs": [],
   "source": [
    "# Plot variance over the grid\n",
    "\n",
    "# for i in range(4):\n",
    "#     plt.figure()\n",
    "#     plt.scatter(hole_xy_plot[:, 0], hole_xy_plot[:, 1], hole_status)\n",
    "#     plt.scatter(hole_xy_plot[:, 0], hole_xy_plot[:, 1], 1, var.T[i])\n",
    "#     plt.title('log10(Variance) of ' + lasers[i])\n",
    "#     plt.show()"
   ]
  },
  {
   "cell_type": "markdown",
   "metadata": {},
   "source": [
    "## View a trace"
   ]
  },
  {
   "cell_type": "code",
   "execution_count": null,
   "metadata": {},
   "outputs": [],
   "source": [
    "# # i = 112542 # is a good example\n",
    "# i = 30256\n",
    "# # i = np.random.randint(0, n_traces)\n",
    "# trace = traces[i]\n",
    "# for j in range(4):\n",
    "#     plt.plot(time_axis, trace[j], color=colors[j])\n",
    "#     j += 1 \n",
    "\n",
    "# plt.xlabel('Time (s)')\n",
    "# plt.ylabel('Intensity')\n",
    "# plt.legend(lasers, bbox_to_anchor=(0.75, 0.5, 0.5, 0.5))"
   ]
  },
  {
   "cell_type": "code",
   "execution_count": null,
   "metadata": {},
   "outputs": [],
   "source": [
    "# plt.imshow(traces[:200, 2, :])\n",
    "# plt.colorbar()"
   ]
  },
  {
   "cell_type": "code",
   "execution_count": null,
   "metadata": {
    "scrolled": true
   },
   "outputs": [],
   "source": [
    "# plt.figure(figsize=(10, 4))\n",
    "# plt.imshow(traces[(112542-50):(112542+50), 2, :])\n",
    "# plt.colorbar()\n",
    "# plt.title(\"Cy5 traces stacked\")\n",
    "# plt.xlabel(\"Frame\")\n",
    "# plt.ylabel('Wells')\n",
    "# plt.savefig(sample_prefix + '_cy5_stacked_example.png', dpi=300)"
   ]
  },
  {
   "cell_type": "markdown",
   "metadata": {},
   "source": [
    "## Plot average intensity over time for each color"
   ]
  },
  {
   "cell_type": "code",
   "execution_count": null,
   "metadata": {},
   "outputs": [],
   "source": [
    "# avg_trace = np.zeros((4, n_frames))\n",
    "# for i in range(4):\n",
    "#     avg_trace[i] = np.mean(traces[:][:][i], axis=0)"
   ]
  },
  {
   "cell_type": "code",
   "execution_count": null,
   "metadata": {},
   "outputs": [],
   "source": [
    "# for i in range(4):\n",
    "#     plt.plot(time_axis, avg_trace[i], color=colors[i])\n",
    "\n",
    "# plt.xlabel('Time (s)')\n",
    "# plt.ylabel('Intensity')\n",
    "# plt.legend(lasers, bbox_to_anchor=(0.75, 0.5, 0.5, 0.5))"
   ]
  },
  {
   "cell_type": "markdown",
   "metadata": {},
   "source": [
    "## Sort by correlation"
   ]
  },
  {
   "cell_type": "code",
   "execution_count": null,
   "metadata": {},
   "outputs": [],
   "source": [
    "# zero-center the traces\n",
    "centered_traces = np.zeros((n_traces, 2, n_frames), dtype=np.int32)\n",
    "for i in range(n_traces):\n",
    "    centered_traces[i, 0] = traces[i, 0] - avg_intens[i, 0]\n",
    "    centered_traces[i, 1] = traces[i, 3] - avg_intens[i, 3]"
   ]
  },
  {
   "cell_type": "code",
   "execution_count": null,
   "metadata": {},
   "outputs": [],
   "source": [
    "ct_avg_intens = np.mean(centered_traces, axis=2)\n",
    "for i in range(2):\n",
    "    avg_intens_i = ct_avg_intens.T[i]\n",
    "    min_i = min(avg_intens_i)\n",
    "    max_i = max(avg_intens_i)\n",
    "    plt.hist(avg_intens_i, bins=100, range=[min_i, max_i], histtype='step', color=colors[i])\n",
    "    \n",
    "    \n",
    "plt.xlabel('Intensity')\n",
    "plt.ylabel('Count')\n",
    "plt.legend(lasers)"
   ]
  },
  {
   "cell_type": "code",
   "execution_count": null,
   "metadata": {},
   "outputs": [],
   "source": [
    "centered_traces[0][0]"
   ]
  },
  {
   "cell_type": "code",
   "execution_count": null,
   "metadata": {},
   "outputs": [],
   "source": [
    "i = np.random.randint(0, n_traces)\n",
    "ct = centered_traces[i]\n",
    "for j in range(2):\n",
    "    plt.plot(time_axis, ct[j], color=colors[j])\n",
    "    j += 1 \n",
    "\n",
    "plt.xlabel('Time (s)')\n",
    "plt.ylabel('Intensity')\n",
    "plt.legend(lasers, bbox_to_anchor=(0.75, 0.5, 0.5, 0.5))"
   ]
  },
  {
   "cell_type": "code",
   "execution_count": null,
   "metadata": {},
   "outputs": [],
   "source": [
    "# Compute cross-correlation\n",
    "corr_list = np.zeros(n_traces,dtype=np.int64)\n",
    "for i in range(n_traces):\n",
    "    cy3 = centered_traces[i][0]\n",
    "    cy5 = centered_traces[i][1]\n",
    "    corr_list[i] = np.correlate(cy3, cy5)\n",
    "\n",
    "sorting_index = np.argsort(corr_list)"
   ]
  },
  {
   "cell_type": "code",
   "execution_count": null,
   "metadata": {},
   "outputs": [],
   "source": [
    "plt.figure(figsize=(15, 20))\n",
    "for i in range(10):\n",
    "    plt.subplot(5, 2, i+1)\n",
    "    st = traces[sorting_index[i]]\n",
    "    for j in range(4):\n",
    "        plt.plot(time_axis, st[j], color=colors[j])\n",
    "        j += 1 \n",
    "\n",
    "    plt.xlabel('Time (s)')\n",
    "    plt.ylabel('Intensity')\n",
    "    plt.legend(lasers, bbox_to_anchor=(0.75, 0.5, 0.5, 0.5))\n",
    "    i = i + 1\n",
    "# plt.savefig(\"10 min Bottem 50 anticorrelated traces.png\")"
   ]
  },
  {
   "cell_type": "markdown",
   "metadata": {},
   "source": [
    "## K-means clustering"
   ]
  },
  {
   "cell_type": "code",
   "execution_count": null,
   "metadata": {},
   "outputs": [],
   "source": [
    "corr_list.shape"
   ]
  },
  {
   "cell_type": "code",
   "execution_count": null,
   "metadata": {},
   "outputs": [],
   "source": [
    "avg_intens.shape"
   ]
  },
  {
   "cell_type": "code",
   "execution_count": null,
   "metadata": {},
   "outputs": [],
   "source": [
    "plt.scatter(corr_list, avg_intens[:, 0], s=0.1)\n",
    "plt.ylim([100, 260])\n",
    "plt.figure()\n",
    "plt.scatter(corr_list, avg_intens[:, 2], s=0.1)"
   ]
  },
  {
   "cell_type": "code",
   "execution_count": null,
   "metadata": {},
   "outputs": [],
   "source": [
    "scaled_traces = scale(traces[:, [0, 2], :])"
   ]
  },
  {
   "cell_type": "code",
   "execution_count": null,
   "metadata": {},
   "outputs": [],
   "source": [
    "data = traces\n",
    "n_samples = n_traces\n",
    "n_features = n_frames\n",
    "n_clusters = 2\n",
    "\n",
    "def bench_k_means(estimator, name, data):\n",
    "    t0 = time()\n",
    "    estimator.fit(data)\n",
    "    print('%-9s\\t%.2fs\\t%i\\t%.3f\\t%.3f\\t%.3f\\t%.3f\\t%.3f\\t%.3f'\n",
    "          % (name, (time() - t0), estimator.inertia_,\n",
    "             metrics.homogeneity_score(labels, estimator.labels_),\n",
    "             metrics.completeness_score(labels, estimator.labels_),\n",
    "             metrics.v_measure_score(labels, estimator.labels_),\n",
    "             metrics.adjusted_rand_score(labels, estimator.labels_),\n",
    "             metrics.adjusted_mutual_info_score(labels,  estimator.labels_),\n",
    "             metrics.silhouette_score(data, estimator.labels_,\n",
    "                                      metric='euclidean',\n",
    "                                      sample_size=sample_size)))\n",
    "\n",
    "bench_k_means(KMeans(init='k-means++', n_clusters=n_clusters, n_init=10),\n",
    "              name=\"k-means++\", data=data)\n",
    "\n",
    "bench_k_means(KMeans(init='random', n_clusters=n_digits, n_init=10),\n",
    "              name=\"random\", data=data)\n",
    "\n",
    "# in this case the seeding of the centers is deterministic, hence we run the\n",
    "# kmeans algorithm only once with n_init=1\n",
    "pca = PCA(n_components=n_clusters).fit(data)\n",
    "bench_k_means(KMeans(init=pca.components_, n_clusters=n_digits, n_init=1),\n",
    "              name=\"PCA-based\",\n",
    "              data=data)\n",
    "print(82 * '_')\n",
    "\n",
    "# #############################################################################\n",
    "# Visualize the results on PCA-reduced data\n",
    "\n",
    "reduced_data = PCA(n_components=2).fit_transform(data)\n",
    "kmeans = KMeans(init='k-means++', n_clusters=n_digits, n_init=10)\n",
    "kmeans.fit(reduced_data)\n",
    "\n",
    "# Step size of the mesh. Decrease to increase the quality of the VQ.\n",
    "h = .02     # point in the mesh [x_min, x_max]x[y_min, y_max].\n",
    "\n",
    "# Plot the decision boundary. For that, we will assign a color to each\n",
    "x_min, x_max = reduced_data[:, 0].min() - 1, reduced_data[:, 0].max() + 1\n",
    "y_min, y_max = reduced_data[:, 1].min() - 1, reduced_data[:, 1].max() + 1\n",
    "xx, yy = np.meshgrid(np.arange(x_min, x_max, h), np.arange(y_min, y_max, h))\n",
    "\n",
    "# Obtain labels for each point in mesh. Use last trained model.\n",
    "Z = kmeans.predict(np.c_[xx.ravel(), yy.ravel()])\n",
    "\n",
    "# Put the result into a color plot\n",
    "Z = Z.reshape(xx.shape)\n",
    "plt.figure(1)\n",
    "plt.clf()\n",
    "plt.imshow(Z, interpolation='nearest',\n",
    "           extent=(xx.min(), xx.max(), yy.min(), yy.max()),\n",
    "           cmap=plt.cm.Paired,\n",
    "           aspect='auto', origin='lower')\n",
    "\n",
    "plt.plot(reduced_data[:, 0], reduced_data[:, 1], 'k.', markersize=2)\n",
    "# Plot the centroids as a white X\n",
    "centroids = kmeans.cluster_centers_\n",
    "plt.scatter(centroids[:, 0], centroids[:, 1],\n",
    "            marker='x', s=169, linewidths=3,\n",
    "            color='w', zorder=10)\n",
    "plt.title('K-means clustering on the digits dataset (PCA-reduced data)\\n'\n",
    "          'Centroids are marked with white cross')\n",
    "plt.xlim(x_min, x_max)\n",
    "plt.ylim(y_min, y_max)\n",
    "plt.xticks(())\n",
    "plt.yticks(())\n",
    "plt.show()"
   ]
  },
  {
   "cell_type": "code",
   "execution_count": null,
   "metadata": {},
   "outputs": [],
   "source": [
    "corr_list[sorting_index]"
   ]
  },
  {
   "cell_type": "code",
   "execution_count": null,
   "metadata": {},
   "outputs": [],
   "source": [
    "a = plt.hist(corr_list, bins=50, range=[-2e6, 4e6])"
   ]
  },
  {
   "cell_type": "code",
   "execution_count": null,
   "metadata": {},
   "outputs": [],
   "source": [
    "# anti_list = []\n",
    "# for i in range(n_traces):\n",
    "#     if corr_list[i] < 0:\n",
    "#         anti_list.append(i)"
   ]
  },
  {
   "cell_type": "code",
   "execution_count": null,
   "metadata": {},
   "outputs": [],
   "source": [
    "# n_anti = len(anti_list)\n",
    "# start = 0\n",
    "# end = 10\n",
    "# init_intens = np.zeros((2, n_anti))\n",
    "# for i in range(len(anti_list)):\n",
    "#     index = anti_list[i]\n",
    "#     trace = traces[i]\n",
    "    \n",
    "#     for j in range(2):\n",
    "#         dec_trace = decode_array[trace[j, start:end]]\n",
    "#         init_intens[j, i] = np.mean(dec_trace[j])"
   ]
  },
  {
   "cell_type": "code",
   "execution_count": null,
   "metadata": {},
   "outputs": [],
   "source": [
    "# plt.hist(init_intens[0])\n",
    "# plt.hist(init_intens[1])"
   ]
  },
  {
   "cell_type": "code",
   "execution_count": null,
   "metadata": {},
   "outputs": [],
   "source": [
    "n_anti = len(anti_list)\n",
    "start = 5890\n",
    "end = 5900\n",
    "final_intens = np.zeros((2, n_anti))\n",
    "for i in range(len(anti_list)):\n",
    "    index = anti_list[i]\n",
    "    trace = traces[i]\n",
    "    for j in range(2):\n",
    "        dec_trace = decode_array[trace[j, start:end]]\n",
    "        final_intens[j, i] = np.mean(dec_trace[j])"
   ]
  },
  {
   "cell_type": "code",
   "execution_count": null,
   "metadata": {},
   "outputs": [],
   "source": [
    "trace.shape"
   ]
  },
  {
   "cell_type": "code",
   "execution_count": null,
   "metadata": {},
   "outputs": [],
   "source": [
    "plt.hist(final_intens[0, :])\n",
    "plt.hist(final_intens[1, :])"
   ]
  },
  {
   "cell_type": "code",
   "execution_count": null,
   "metadata": {},
   "outputs": [],
   "source": [
    "anti_list = np.array(anti_list)\n",
    "diff_list = final_intens - init_intens\n",
    "temp_indices = np.argsort(diff_list[0])\n",
    "diff_sort_indices_cy3 = anti_list[temp_indices]"
   ]
  },
  {
   "cell_type": "code",
   "execution_count": null,
   "metadata": {},
   "outputs": [],
   "source": [
    "plt.figure(figsize=(15, 100))\n",
    "for i in range(50):\n",
    "    plt.subplot(25, 2, i+1)\n",
    "    st = traces[diff_sort_indices_cy3[i]]\n",
    "    for j in range(4):\n",
    "        plt.plot(time_axis, st[j], color=colors[j])\n",
    "        j += 1 \n",
    "\n",
    "    plt.xlabel('Time (s)')\n",
    "    plt.ylabel('Intensity')\n",
    "    plt.legend(lasers, bbox_to_anchor=(0.75, 0.5, 0.5, 0.5))\n",
    "    i = i + 1"
   ]
  },
  {
   "cell_type": "code",
   "execution_count": null,
   "metadata": {},
   "outputs": [],
   "source": [
    "anti_list = np.array(anti_list)\n",
    "temp_indices = np.argsort(final_intens[0])\n",
    "sort_indices_cy3 = anti_list[temp_indices]"
   ]
  },
  {
   "cell_type": "code",
   "execution_count": null,
   "metadata": {},
   "outputs": [],
   "source": [
    "plt.figure(figsize=(15, 100))\n",
    "for i in range(50):\n",
    "    plt.subplot(25, 2, i+1)\n",
    "    st = traces[sort_indices_cy3[i]]\n",
    "    for j in range(4):\n",
    "        plt.plot(time_axis, st[j], color=colors[j])\n",
    "        j += 1 \n",
    "\n",
    "    plt.xlabel('Time (s)')\n",
    "    plt.ylabel('Intensity')\n",
    "    plt.legend(lasers, bbox_to_anchor=(0.75, 0.5, 0.5, 0.5))\n",
    "    i = i + 1"
   ]
  },
  {
   "cell_type": "code",
   "execution_count": null,
   "metadata": {},
   "outputs": [],
   "source": [
    "final_intens[0][temp_indices]"
   ]
  },
  {
   "cell_type": "markdown",
   "metadata": {},
   "source": [
    "## Sort by change in intensity"
   ]
  },
  {
   "cell_type": "code",
   "execution_count": null,
   "metadata": {},
   "outputs": [],
   "source": [
    "init_intens = np.zeros((2, n_traces))\n",
    "final_intens = np.zeros((2, n_traces))\n",
    "for i in range(n_traces):\n",
    "    trace = traces[i]\n",
    "    init_intens[0, i] = np.mean(trace[0, :10])\n",
    "    final_intens[0, i] = np.mean(trace[0, 5890:])\n",
    "    init_intens[1, i] = np.mean(trace[2, :10])\n",
    "    final_intens[1, i] = np.mean(trace[2, 5890:])\n",
    "\n",
    "diff = final_intens - init_intens\n",
    "\n",
    "diff_sort_cy5 = np.argsort(diff[1])"
   ]
  },
  {
   "cell_type": "code",
   "execution_count": null,
   "metadata": {},
   "outputs": [],
   "source": [
    "plt.hist(diff[1], bins=100)"
   ]
  },
  {
   "cell_type": "code",
   "execution_count": null,
   "metadata": {},
   "outputs": [],
   "source": [
    "plt.figure(figsize=(15, 40))\n",
    "for i in range(20):\n",
    "    plt.subplot(10, 2, i+1)\n",
    "    st = traces[diff_sort_cy5[i+100]]\n",
    "    for j in range(4):\n",
    "        plt.plot(time_axis, st[j], color=colors[j])\n",
    "        j += 1 \n",
    "\n",
    "    plt.xlabel('Time (s)')\n",
    "    plt.ylabel('Intensity')\n",
    "    plt.legend(lasers, bbox_to_anchor=(0.75, 0.5, 0.5, 0.5))\n",
    "    i = i + 1"
   ]
  },
  {
   "cell_type": "code",
   "execution_count": null,
   "metadata": {},
   "outputs": [],
   "source": [
    "diff_sort_cy3 = np.argsort(diff[0])"
   ]
  },
  {
   "cell_type": "code",
   "execution_count": null,
   "metadata": {},
   "outputs": [],
   "source": [
    "plt.figure(figsize=(15, 40))\n",
    "for i in range(20):\n",
    "    plt.subplot(10, 2, i+1)\n",
    "    st = traces[diff_sort_cy3[i+100]]\n",
    "    st[0] = st[0]-120\n",
    "    st[2] = st[2]-65\n",
    "    for j in [0, 2]:\n",
    "        plt.plot(time_axis, st[j], color=colors[j])\n",
    "        j += 1 \n",
    "\n",
    "    plt.xlabel('Time (s)')\n",
    "    plt.ylabel('Intensity')\n",
    "    plt.legend(lasers, bbox_to_anchor=(0.75, 0.5, 0.5, 0.5))\n",
    "    i = i + 1"
   ]
  },
  {
   "cell_type": "code",
   "execution_count": null,
   "metadata": {},
   "outputs": [],
   "source": [
    "don_list = init_intens[0]\n",
    "acc_list = init_intens[1]\n",
    "fret_list = acc_list/(donor_list + acc_list)"
   ]
  },
  {
   "cell_type": "code",
   "execution_count": null,
   "metadata": {},
   "outputs": [],
   "source": [
    "plt.hist(fret_list, bins=60, range=[0, 1])"
   ]
  },
  {
   "cell_type": "code",
   "execution_count": null,
   "metadata": {},
   "outputs": [],
   "source": [
    "plt.hist(don_list, bins=100)\n",
    "plt.hist(acc_list, bins=100)"
   ]
  },
  {
   "cell_type": "code",
   "execution_count": null,
   "metadata": {},
   "outputs": [],
   "source": [
    "green_filter = np.zeros((n_traces,), dtype = bool)\n",
    "red_filter = np.zeros((n_traces, ), dtype = bool)\n",
    "green_min = 200\n",
    "green_max = 250\n",
    "red_min = 140\n",
    "red_max = 250"
   ]
  },
  {
   "cell_type": "code",
   "execution_count": null,
   "metadata": {},
   "outputs": [],
   "source": [
    "for i in range(n_traces):\n",
    "    if (don_list[i] > green_min and don_list[i] < green_max):\n",
    "        green_filter[i] = 1\n",
    "    if (acc_list[i] > red_min and acc_list[i] < red_max):\n",
    "        red_filter[i] = 1"
   ]
  },
  {
   "cell_type": "code",
   "execution_count": null,
   "metadata": {},
   "outputs": [],
   "source": [
    "plt.hist(don_list[green_filter])\n",
    "plt.hist(acc_list[red_filter])"
   ]
  },
  {
   "cell_type": "code",
   "execution_count": null,
   "metadata": {},
   "outputs": [],
   "source": [
    "gr_filter = np.zeros((n_traces,), dtype=bool)\n",
    "n_sele = 0\n",
    "for i in range(n_traces):\n",
    "    gr_filter[i] = green_filter[i] and red_filter[i]\n",
    "    if gr_filter[i] == True:\n",
    "        n_sele += 1"
   ]
  },
  {
   "cell_type": "code",
   "execution_count": null,
   "metadata": {},
   "outputs": [],
   "source": [
    "sele_traces = np.zeros((n_sele, 4, n_frames), dtype=np.uint8)\n",
    "j = 0\n",
    "for i in range(n_traces):\n",
    "    if gr_filter[i]:\n",
    "        sele_traces[j] = traces[i]\n",
    "        j += 1"
   ]
  },
  {
   "cell_type": "code",
   "execution_count": null,
   "metadata": {},
   "outputs": [],
   "source": [
    "n_sele"
   ]
  },
  {
   "cell_type": "code",
   "execution_count": null,
   "metadata": {},
   "outputs": [],
   "source": [
    "plt.figure(figsize=(15, 100))\n",
    "for i in range(100):\n",
    "    plt.subplot(50, 2, i+1)\n",
    "    st = sele_traces[i]\n",
    "    for j in range(4):\n",
    "        plt.plot(time_axis, st[j], color=colors[j])\n",
    "        j += 1 \n",
    "\n",
    "    plt.xlabel('Time (s)')\n",
    "    plt.ylabel('Intensity')\n",
    "    plt.legend(lasers, bbox_to_anchor=(0.75, 0.5, 0.5, 0.5))\n",
    "    i = i + 1"
   ]
  },
  {
   "cell_type": "code",
   "execution_count": null,
   "metadata": {},
   "outputs": [],
   "source": []
  }
 ],
 "metadata": {
  "kernelspec": {
   "display_name": "Python 3",
   "language": "python",
   "name": "python3"
  },
  "language_info": {
   "codemirror_mode": {
    "name": "ipython",
    "version": 3
   },
   "file_extension": ".py",
   "mimetype": "text/x-python",
   "name": "python",
   "nbconvert_exporter": "python",
   "pygments_lexer": "ipython3",
   "version": "3.7.0"
  }
 },
 "nbformat": 4,
 "nbformat_minor": 2
}
