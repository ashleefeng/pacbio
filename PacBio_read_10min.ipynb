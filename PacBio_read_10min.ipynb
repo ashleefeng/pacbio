{
 "cells": [
  {
   "cell_type": "code",
   "execution_count": 4,
   "metadata": {},
   "outputs": [],
   "source": [
    "import numpy as np\n",
    "import h5py\n",
    "import matplotlib.pyplot as plt\n",
    "import xml.etree.ElementTree as ET"
   ]
  },
  {
   "cell_type": "markdown",
   "metadata": {},
   "source": [
    "## User input"
   ]
  },
  {
   "cell_type": "code",
   "execution_count": 5,
   "metadata": {},
   "outputs": [],
   "source": [
    "sample_prefix = 'E:\\\\Ashlee\\\\PacBio\\\\181207\\\\10min_43N43_Cy5H2A_100ms\\\\m181207_213534_42131_c000468692559900001500000112312030_s1_p0'"
   ]
  },
  {
   "cell_type": "markdown",
   "metadata": {},
   "source": [
    "## Load data"
   ]
  },
  {
   "cell_type": "code",
   "execution_count": 6,
   "metadata": {},
   "outputs": [],
   "source": [
    "trc_filename = sample_prefix + '.trc.h5'\n",
    "mcd_filename = sample_prefix + '.mcd.h5'\n",
    "upd_filename = sample_prefix + '.upd.h5'\n",
    "meta_filename = sample_prefix + '.metadata.xml'\n",
    "\n",
    "trc_file = h5py.File(trc_filename, 'r')\n",
    "mcd_file = h5py.File(mcd_filename, 'r')\n",
    "upd_file = h5py.File(upd_filename, 'r')\n",
    "\n",
    "# Load data in trace file\n",
    "dset = trc_file['TraceData']\n",
    "raw_traces = dset['Traces']\n",
    "decode = dset['Codec']['Decode']\n",
    "n_traces = raw_traces.shape[0]\n",
    "n_frames = raw_traces.shape[2]\n",
    "decode_array = np.array(decode)\n",
    "\n",
    "# Load data in upd file\n",
    "upd_TD = upd_file['TraceData']\n",
    "hole_xy_plot = upd_TD['HoleXYPlot'] # (x,y) coordinates for each well\n",
    "hole_status = upd_TD['HoleStatus'] # fiducials\n",
    "\n",
    "# Extract frame rate from metadata\n",
    "meta_tree = ET.parse(meta_filename)\n",
    "root = meta_tree.getroot()\n",
    "for keyval in root.iter('{http://pacificbiosciences.com/PAP/Metadata.xsd}KeyValue'):\n",
    "    if keyval.attrib['key'] == 'MovieFPS':\n",
    "        fps = int(keyval.text)\n",
    "        frame_rate = 1.0/fps # seconds\n",
    "        break\n",
    "\n",
    "# For plotting\n",
    "time_axis = np.arange(n_frames)*frame_rate\n",
    "colors = ['green', (0, 1, 0), 'red', 'orange']\n",
    "lasers = ['Cy3', 'Cy3.5', 'Cy5', 'Cy5.5']"
   ]
  },
  {
   "cell_type": "markdown",
   "metadata": {},
   "source": [
    "## View data structure\n",
    "def printname(name):\n",
    "    print(name)\n",
    "\n",
    "print('In mcd file: ')\n",
    "mcd_file.visit(printname)\n",
    "print()\n",
    "\n",
    "print('In upd file: ')\n",
    "upd_file.visit(printname)"
   ]
  },
  {
   "cell_type": "code",
   "execution_count": null,
   "metadata": {},
   "outputs": [],
   "source": [
    "psf = mcd_file['MovieCal']['Camera[0]']['Psf']\n",
    "for i in range(1, 3):\n",
    "    fig, ax = plt.subplots()\n",
    "    im = ax.imshow(psf[0, i, :, :])"
   ]
  },
  {
   "cell_type": "markdown",
   "metadata": {},
   "source": [
    "## Decode trace intensities"
   ]
  },
  {
   "cell_type": "code",
   "execution_count": 7,
   "metadata": {},
   "outputs": [
    {
     "ename": "MemoryError",
     "evalue": "",
     "output_type": "error",
     "traceback": [
      "\u001b[1;31m---------------------------------------------------------------------------\u001b[0m",
      "\u001b[1;31mMemoryError\u001b[0m                               Traceback (most recent call last)",
      "\u001b[1;32m<ipython-input-7-e9f049a7889c>\u001b[0m in \u001b[0;36m<module>\u001b[1;34m()\u001b[0m\n\u001b[1;32m----> 1\u001b[1;33m \u001b[0mtraces\u001b[0m \u001b[1;33m=\u001b[0m \u001b[0mnp\u001b[0m\u001b[1;33m.\u001b[0m\u001b[0mzeros\u001b[0m\u001b[1;33m(\u001b[0m\u001b[0mraw_traces\u001b[0m\u001b[1;33m.\u001b[0m\u001b[0mshape\u001b[0m\u001b[1;33m,\u001b[0m \u001b[0mdtype\u001b[0m\u001b[1;33m=\u001b[0m\u001b[0mnp\u001b[0m\u001b[1;33m.\u001b[0m\u001b[0mfloat16\u001b[0m\u001b[1;33m)\u001b[0m\u001b[1;33m\u001b[0m\u001b[0m\n\u001b[0m\u001b[0;32m      2\u001b[0m \u001b[1;32mfor\u001b[0m \u001b[0mi\u001b[0m \u001b[1;32min\u001b[0m \u001b[0mrange\u001b[0m\u001b[1;33m(\u001b[0m\u001b[0mn_traces\u001b[0m\u001b[1;33m)\u001b[0m\u001b[1;33m:\u001b[0m\u001b[1;33m\u001b[0m\u001b[0m\n\u001b[0;32m      3\u001b[0m     \u001b[0mtraces\u001b[0m\u001b[1;33m[\u001b[0m\u001b[0mi\u001b[0m\u001b[1;33m]\u001b[0m \u001b[1;33m=\u001b[0m \u001b[0mdecode_array\u001b[0m\u001b[1;33m[\u001b[0m\u001b[0mraw_traces\u001b[0m\u001b[1;33m[\u001b[0m\u001b[0mi\u001b[0m\u001b[1;33m]\u001b[0m\u001b[1;33m]\u001b[0m\u001b[1;33m\u001b[0m\u001b[0m\n",
      "\u001b[1;31mMemoryError\u001b[0m: "
     ]
    }
   ],
   "source": [
    "traces = np.zeros(raw_traces.shape, dtype=np.float16)\n",
    "for i in range(n_traces):\n",
    "    traces[i] = decode_array[raw_traces[i]]"
   ]
  },
  {
   "cell_type": "markdown",
   "metadata": {},
   "source": [
    "## Plot intensity distributions"
   ]
  },
  {
   "cell_type": "code",
   "execution_count": 8,
   "metadata": {},
   "outputs": [
    {
     "ename": "NameError",
     "evalue": "name 'traces' is not defined",
     "output_type": "error",
     "traceback": [
      "\u001b[1;31m---------------------------------------------------------------------------\u001b[0m",
      "\u001b[1;31mNameError\u001b[0m                                 Traceback (most recent call last)",
      "\u001b[1;32m<ipython-input-8-a3b39915430e>\u001b[0m in \u001b[0;36m<module>\u001b[1;34m()\u001b[0m\n\u001b[1;32m----> 1\u001b[1;33m \u001b[0mavg_intens\u001b[0m \u001b[1;33m=\u001b[0m \u001b[0mnp\u001b[0m\u001b[1;33m.\u001b[0m\u001b[0mmean\u001b[0m\u001b[1;33m(\u001b[0m\u001b[0mtraces\u001b[0m\u001b[1;33m,\u001b[0m \u001b[0maxis\u001b[0m\u001b[1;33m=\u001b[0m\u001b[1;36m2\u001b[0m\u001b[1;33m)\u001b[0m\u001b[1;33m\u001b[0m\u001b[0m\n\u001b[0m",
      "\u001b[1;31mNameError\u001b[0m: name 'traces' is not defined"
     ]
    }
   ],
   "source": [
    "avg_intens = np.mean(traces, axis=2)"
   ]
  },
  {
   "cell_type": "code",
   "execution_count": null,
   "metadata": {
    "scrolled": false
   },
   "outputs": [],
   "source": [
    "for i in range(4):\n",
    "    avg_intens_i = avg_intens.T[i]\n",
    "    min_i = min(avg_intens_i)\n",
    "    max_i = max(avg_intens_i)\n",
    "    plt.hist(avg_intens_i, bins=100, range=[min_i, max_i], histtype='step', color=colors[i])\n",
    "    \n",
    "    \n",
    "plt.xlabel('Intensity')\n",
    "plt.ylabel('Count')\n",
    "plt.legend(lasers)"
   ]
  },
  {
   "cell_type": "code",
   "execution_count": null,
   "metadata": {},
   "outputs": [],
   "source": [
    "# for i in range(4):\n",
    "#     plt.figure()\n",
    "#     plt.scatter(hole_xy_plot[:, 0], hole_xy_plot[:, 1], hole_status)\n",
    "#     plt.scatter(hole_xy_plot[:, 0], hole_xy_plot[:, 1], 1, avg_intens.T[i]/300)\n",
    "#     plt.title(lasers[i] + ' intensity')\n",
    "#     plt.show()\n",
    "\n",
    "plt.figure(figsize=(14, 11))\n",
    "for i in range(4):\n",
    "    plt.subplot(2, 2, i+1)\n",
    "    plt.scatter(hole_xy_plot[:, 0], hole_xy_plot[:, 1], hole_status)\n",
    "    plt.scatter(hole_xy_plot[:, 0], hole_xy_plot[:, 1], 1, avg_intens.T[i])\n",
    "    plt.title(lasers[i] + ' intensity')\n",
    "    plt.colorbar()\n",
    "\n",
    "plt.savefig(sample_prefix + '_grid.png')\n",
    "plt.show()"
   ]
  },
  {
   "cell_type": "markdown",
   "metadata": {},
   "source": [
    "## Plot variance distributions"
   ]
  },
  {
   "cell_type": "code",
   "execution_count": null,
   "metadata": {},
   "outputs": [],
   "source": [
    "var = np.log10(np.var(traces, axis=2) + 1e-6)"
   ]
  },
  {
   "cell_type": "code",
   "execution_count": null,
   "metadata": {},
   "outputs": [],
   "source": [
    "for i in range(4):\n",
    "    var_i = var.T[i]\n",
    "    min_i = 0\n",
    "    max_i = max(var_i)\n",
    "    plt.hist(var_i, bins=100, range=[min_i, max_i], histtype='step', color=colors[i])\n",
    "    \n",
    "plt.xlabel('log10(Variance)')\n",
    "plt.ylabel('Count')\n",
    "plt.legend(lasers)"
   ]
  },
  {
   "cell_type": "code",
   "execution_count": null,
   "metadata": {},
   "outputs": [],
   "source": [
    "# Plot variance over the grid\n",
    "\n",
    "# for i in range(4):\n",
    "#     plt.figure()\n",
    "#     plt.scatter(hole_xy_plot[:, 0], hole_xy_plot[:, 1], hole_status)\n",
    "#     plt.scatter(hole_xy_plot[:, 0], hole_xy_plot[:, 1], 1, var.T[i])\n",
    "#     plt.title('log10(Variance) of ' + lasers[i])\n",
    "#     plt.show()"
   ]
  },
  {
   "cell_type": "markdown",
   "metadata": {},
   "source": [
    "## View a trace"
   ]
  },
  {
   "cell_type": "code",
   "execution_count": null,
   "metadata": {},
   "outputs": [],
   "source": [
    "# i = 112542 # is a good example\n",
    "i = 30256\n",
    "# i = np.random.randint(0, n_traces)\n",
    "trace = traces[i]\n",
    "for j in range(4):\n",
    "    plt.plot(time_axis, trace[j], color=colors[j])\n",
    "    j += 1 \n",
    "\n",
    "plt.xlabel('Time (s)')\n",
    "plt.ylabel('Intensity')\n",
    "plt.legend(lasers, bbox_to_anchor=(0.75, 0.5, 0.5, 0.5))"
   ]
  },
  {
   "cell_type": "code",
   "execution_count": null,
   "metadata": {},
   "outputs": [],
   "source": [
    "plt.imshow(traces[:200, 2, :])\n",
    "plt.colorbar()"
   ]
  },
  {
   "cell_type": "code",
   "execution_count": null,
   "metadata": {
    "scrolled": true
   },
   "outputs": [],
   "source": [
    "plt.figure(figsize=(10, 4))\n",
    "plt.imshow(traces[(112542-50):(112542+50), 2, :])\n",
    "plt.colorbar()\n",
    "plt.title(\"Cy5 traces stacked\")\n",
    "plt.xlabel(\"Frame\")\n",
    "plt.ylabel('Wells')\n",
    "plt.savefig(sample_prefix + '_cy5_stacked_example.png', dpi=300)"
   ]
  },
  {
   "cell_type": "markdown",
   "metadata": {},
   "source": [
    "## Plot average intensity over time for each color"
   ]
  },
  {
   "cell_type": "code",
   "execution_count": null,
   "metadata": {},
   "outputs": [],
   "source": [
    "avg_trace = np.zeros((4, n_frames))\n",
    "for i in range(4):\n",
    "    avg_trace[i] = np.mean(traces[:][:][i], axis=0)"
   ]
  },
  {
   "cell_type": "code",
   "execution_count": null,
   "metadata": {},
   "outputs": [],
   "source": [
    "for i in range(4):\n",
    "    plt.plot(time_axis, avg_trace[i], color=colors[i])\n",
    "\n",
    "plt.xlabel('Time (s)')\n",
    "plt.ylabel('Intensity')\n",
    "plt.legend(lasers, bbox_to_anchor=(0.75, 0.5, 0.5, 0.5))"
   ]
  },
  {
   "cell_type": "markdown",
   "metadata": {},
   "source": [
    "## Sort by correlation"
   ]
  },
  {
   "cell_type": "code",
   "execution_count": null,
   "metadata": {},
   "outputs": [],
   "source": [
    "# zero-center the traces\n",
    "centered_traces = np.zeros((n_traces, 2, n_frames), dtype=np.int8)\n",
    "for i in range(n_traces):\n",
    "    centered_traces[i, 0] = traces[i, 0] - avg_intens[i, 0]\n",
    "    centered_traces[i, 1] = traces[i, 3] - avg_intens[i, 3]"
   ]
  },
  {
   "cell_type": "code",
   "execution_count": null,
   "metadata": {},
   "outputs": [],
   "source": [
    "i = np.random.randint(0, n_traces)\n",
    "i = 0\n",
    "ct = centered_traces[i]\n",
    "for j in range(2):\n",
    "    plt.plot(time_axis, ct[j], color=colors[j])\n",
    "    j += 1 \n",
    "\n",
    "plt.xlabel('Time (s)')\n",
    "plt.ylabel('Intensity')\n",
    "plt.legend(lasers, bbox_to_anchor=(0.75, 0.5, 0.5, 0.5))"
   ]
  },
  {
   "cell_type": "code",
   "execution_count": null,
   "metadata": {},
   "outputs": [],
   "source": [
    "# Compute cross-correlation\n",
    "corr_list = np.zeros(n_traces, dtype=np.int8)\n",
    "for i in range(n_traces):\n",
    "    cy3 = centered_traces[i][0]\n",
    "    cy5 = centered_traces[i][1]\n",
    "    corr_list[i] = np.correlate(cy3, cy5)\n",
    "\n",
    "sorting_index = np.argsort(corr_list)\n",
    "\n",
    "sorted_ct = traces[sorting_index]"
   ]
  },
  {
   "cell_type": "code",
   "execution_count": null,
   "metadata": {},
   "outputs": [],
   "source": [
    "plt.figure(figsize=(15, 40))\n",
    "for i in range(20):\n",
    "    plt.subplot(10, 2, i+1)\n",
    "    st = sorted_ct[i]\n",
    "    for j in range(4):\n",
    "        plt.plot(time_axis, st[j], color=colors[j])\n",
    "        j += 1 \n",
    "\n",
    "    plt.xlabel('Time (s)')\n",
    "    plt.ylabel('Intensity')\n",
    "    plt.legend(lasers, bbox_to_anchor=(0.75, 0.5, 0.5, 0.5))\n",
    "    i = i + 1\n",
    "# plt.savefig(\"Top 20 anticorrelated traces.png\")"
   ]
  },
  {
   "cell_type": "code",
   "execution_count": null,
   "metadata": {},
   "outputs": [],
   "source": [
    "plt.hist(corr_list, bins = 50, range=[-4e5, 4e5])"
   ]
  },
  {
   "cell_type": "code",
   "execution_count": null,
   "metadata": {},
   "outputs": [],
   "source": []
  }
 ],
 "metadata": {
  "kernelspec": {
   "display_name": "Python 3",
   "language": "python",
   "name": "python3"
  },
  "language_info": {
   "codemirror_mode": {
    "name": "ipython",
    "version": 3
   },
   "file_extension": ".py",
   "mimetype": "text/x-python",
   "name": "python",
   "nbconvert_exporter": "python",
   "pygments_lexer": "ipython3",
   "version": "3.7.0"
  }
 },
 "nbformat": 4,
 "nbformat_minor": 2
}
