{
 "cells": [
  {
   "cell_type": "code",
   "execution_count": 6,
   "metadata": {},
   "outputs": [
    {
     "name": "stdout",
     "output_type": "stream",
     "text": [
      "Sample: \n",
      "/Users/ashleefeng/OneDrive - Johns Hopkins/PacBio/181207_Ashlee/30s_43N43/m181207_211324_42131_c000468682559900001500000112312060_s1_p0.mcd.h5\n"
     ]
    }
   ],
   "source": [
    "import numpy as np\n",
    "import h5py\n",
    "import matplotlib.pyplot as plt\n",
    "import xml.etree.ElementTree as ET\n",
    "from time import time\n",
    "from functions import utils\n",
    "from functions import utils_dtw\n",
    "import os.path as path\n",
    "\n",
    "# User selects a pacbio dataset\n",
    "sample_file = utils.gui_fname().decode(\"utf-8\")\n",
    "tokens = sample_file.split('/')\n",
    "base = path.basename(sample_file)\n",
    "abs_dir = path.dirname(sample_file)\n",
    "prefix = base.split('.')[0]\n",
    "sample_prefix = abs_dir + '/' + prefix\n",
    "print(\"Sample: \\n%s\" %sample_file)\n",
    "\n",
    "# User input\n",
    "N_CLASS = 3\n",
    "CLS_EXAMPLE = [160027, 64050, 33104] # indices of manually selected class examples\n",
    "init_class = []"
   ]
  },
  {
   "cell_type": "markdown",
   "metadata": {},
   "source": [
    "## Load data"
   ]
  },
  {
   "cell_type": "code",
   "execution_count": 2,
   "metadata": {},
   "outputs": [],
   "source": [
    "trc_filename = sample_prefix + '.trc.h5'\n",
    "mcd_filename = sample_prefix + '.mcd.h5'\n",
    "upd_filename = sample_prefix + '.upd.h5'\n",
    "meta_filename = sample_prefix + '.metadata.xml'\n",
    "\n",
    "trc_file = h5py.File(trc_filename, 'r')\n",
    "mcd_file = h5py.File(mcd_filename, 'r')\n",
    "upd_file = h5py.File(upd_filename, 'r')\n",
    "\n",
    "# Load data in trace file\n",
    "dset = trc_file['TraceData']\n",
    "raw_traces = dset['Traces']\n",
    "decode = dset['Codec']['Decode']\n",
    "n_traces = raw_traces.shape[0]\n",
    "n_frames = raw_traces.shape[2]\n",
    "decode_array = np.array(decode)\n",
    "\n",
    "# Load data in upd file\n",
    "upd_TD = upd_file['TraceData']\n",
    "hole_xy_plot = upd_TD['HoleXYPlot'] # (x,y) coordinates for each well\n",
    "hole_status = upd_TD['HoleStatus'] # fiducials\n",
    "\n",
    "# Extract frame rate from metadata\n",
    "meta_tree = ET.parse(meta_filename)\n",
    "root = meta_tree.getroot()\n",
    "for keyval in root.iter('{http://pacificbiosciences.com/PAP/Metadata.xsd}KeyValue'):\n",
    "    if keyval.attrib['key'] == 'MovieFPS':\n",
    "        fps = int(keyval.text)\n",
    "        frame_rate = 1.0/fps # seconds\n",
    "        break\n",
    "\n",
    "# For plotting\n",
    "time_axis = np.arange(n_frames)*frame_rate\n",
    "colors = ['green', (0, 1, 0), 'red', 'orange']\n",
    "lasers = ['Cy3', 'Cy3.5', 'Cy5', 'Cy5.5']\n",
    "\n",
    "init_class = np.zeros((N_CLASS, n_frames))\n",
    "\n",
    "# Skip decode\n",
    "traces = raw_traces\n",
    "\n",
    "avg_intens = np.mean(traces, axis=2)\n",
    "# zero-center the traces\n",
    "centered_traces = np.zeros(raw_traces.shape)\n",
    "for i in range(n_traces):\n",
    "    for j in range(4):\n",
    "        centered_traces[i, j] = traces[i, j] - avg_intens[i, j]\n",
    "\n",
    "# Compute cross-correlation\n",
    "corr_list = np.zeros(n_traces)\n",
    "for i in range(n_traces):\n",
    "    cy3 = centered_traces[i][0]\n",
    "    cy5 = centered_traces[i][2]\n",
    "    corr_list[i] = np.correlate(cy3, cy5)\n",
    "\n",
    "sorting_index = np.argsort(corr_list)\n",
    "\n",
    "scaled_data_cy5 = np.zeros((n_traces, n_frames))\n",
    "\n",
    "for i in range(n_traces):\n",
    "    cy5_trc = centered_traces[i, 2, :]\n",
    "    cy5_min = cy5_trc.min()\n",
    "    cy5_max = cy5_trc.max()\n",
    "    if cy5_min == cy5_max:\n",
    "        scaled_data_cy5[i] = np.ones(cy5_trc.shape)\n",
    "    else:\n",
    "        scaled_data_cy5[i] = (cy5_trc - cy5_min) / (cy5_max - cy5_min)"
   ]
  },
  {
   "cell_type": "code",
   "execution_count": 7,
   "metadata": {
    "scrolled": true
   },
   "outputs": [
    {
     "ename": "NameError",
     "evalue": "name 'init_class' is not defined",
     "output_type": "error",
     "traceback": [
      "\u001b[0;31m---------------------------------------------------------------------------\u001b[0m",
      "\u001b[0;31mNameError\u001b[0m                                 Traceback (most recent call last)",
      "\u001b[0;32m<ipython-input-7-25b0e1ea1b98>\u001b[0m in \u001b[0;36m<module>\u001b[0;34m\u001b[0m\n\u001b[0;32m----> 1\u001b[0;31m \u001b[0mlabels_p\u001b[0m \u001b[0;34m=\u001b[0m \u001b[0mutils_dtw\u001b[0m\u001b[0;34m.\u001b[0m\u001b[0mdtw_classification_parallel\u001b[0m\u001b[0;34m(\u001b[0m\u001b[0mscaled_data_cy5\u001b[0m\u001b[0;34m,\u001b[0m \u001b[0;36m3\u001b[0m\u001b[0;34m,\u001b[0m \u001b[0mn_frames\u001b[0m\u001b[0;34m,\u001b[0m \u001b[0mCLS_EXAMPLE\u001b[0m\u001b[0;34m)\u001b[0m\u001b[0;34m\u001b[0m\u001b[0;34m\u001b[0m\u001b[0m\n\u001b[0m",
      "\u001b[0;32m~/Documents/pacbio/dev/functions/utils_dtw.py\u001b[0m in \u001b[0;36mdtw_classification_parallel\u001b[0;34m(data_curr, n_classes_curr, n_frames, rep_trc_IDs)\u001b[0m\n\u001b[1;32m     76\u001b[0m     \u001b[0mn_classes\u001b[0m \u001b[0;34m=\u001b[0m \u001b[0mn_classes_curr\u001b[0m\u001b[0;34m\u001b[0m\u001b[0;34m\u001b[0m\u001b[0m\n\u001b[1;32m     77\u001b[0m \u001b[0;34m\u001b[0m\u001b[0m\n\u001b[0;32m---> 78\u001b[0;31m     \u001b[0;32mfor\u001b[0m \u001b[0mi\u001b[0m \u001b[0;32min\u001b[0m \u001b[0mrange\u001b[0m\u001b[0;34m(\u001b[0m\u001b[0mn_classes\u001b[0m\u001b[0;34m)\u001b[0m\u001b[0;34m:\u001b[0m\u001b[0;34m\u001b[0m\u001b[0;34m\u001b[0m\u001b[0m\n\u001b[0m\u001b[1;32m     79\u001b[0m         \u001b[0minit_class\u001b[0m\u001b[0;34m[\u001b[0m\u001b[0mi\u001b[0m\u001b[0;34m]\u001b[0m \u001b[0;34m=\u001b[0m \u001b[0mdata\u001b[0m\u001b[0;34m[\u001b[0m\u001b[0mrep_trc_IDs\u001b[0m\u001b[0;34m[\u001b[0m\u001b[0mi\u001b[0m\u001b[0;34m]\u001b[0m\u001b[0;34m]\u001b[0m\u001b[0;34m\u001b[0m\u001b[0;34m\u001b[0m\u001b[0m\n\u001b[1;32m     80\u001b[0m \u001b[0;34m\u001b[0m\u001b[0m\n",
      "\u001b[0;31mNameError\u001b[0m: name 'init_class' is not defined"
     ]
    }
   ],
   "source": [
    "labels_p = utils_dtw.dtw_classification_parallel(scaled_data_cy5, 3, n_frames, CLS_EXAMPLE)"
   ]
  },
  {
   "cell_type": "code",
   "execution_count": null,
   "metadata": {},
   "outputs": [],
   "source": [
    "plt.hist(labels_p)"
   ]
  },
  {
   "cell_type": "code",
   "execution_count": null,
   "metadata": {},
   "outputs": [],
   "source": [
    "classes = utils_dtw.class_extractor(labels_p, 4)\n",
    "utils_dtw.plot_traces(10, scaled_data_cy5, np.random.choice(classes[0], size=(10,)))"
   ]
  },
  {
   "cell_type": "code",
   "execution_count": null,
   "metadata": {},
   "outputs": [],
   "source": [
    "utils_dtw.plot_traces(10, scaled_data_cy5, np.random.choice(classes[1], size=(10,)))"
   ]
  },
  {
   "cell_type": "code",
   "execution_count": null,
   "metadata": {},
   "outputs": [],
   "source": [
    "utils_dtw.plot_traces(10, scaled_data_cy5, np.random.choice(classes[2], size=(10,)))"
   ]
  }
 ],
 "metadata": {
  "kernelspec": {
   "display_name": "Python 3",
   "language": "python",
   "name": "python3"
  },
  "language_info": {
   "codemirror_mode": {
    "name": "ipython",
    "version": 3
   },
   "file_extension": ".py",
   "mimetype": "text/x-python",
   "name": "python",
   "nbconvert_exporter": "python",
   "pygments_lexer": "ipython3",
   "version": "3.7.6"
  }
 },
 "nbformat": 4,
 "nbformat_minor": 2
}
