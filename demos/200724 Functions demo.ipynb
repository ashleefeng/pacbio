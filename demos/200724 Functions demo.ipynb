{
 "cells": [
  {
   "cell_type": "markdown",
   "metadata": {},
   "source": [
    "# Functions"
   ]
  },
  {
   "cell_type": "code",
   "execution_count": 3,
   "metadata": {},
   "outputs": [],
   "source": [
    "def mile2km(distance):\n",
    "    \"\"\"\n",
    "    Convert distance from miles to kilometers.\n",
    "    \n",
    "    Input:\n",
    "    distance - float, distance in miles\n",
    "    \n",
    "    Output:\n",
    "    float, distance in kilometers\n",
    "    \"\"\"\n",
    "    \n",
    "    print(\"%f miles = %f km\" %(distance, distance * 1.6))"
   ]
  },
  {
   "cell_type": "code",
   "execution_count": 6,
   "metadata": {},
   "outputs": [
    {
     "name": "stdout",
     "output_type": "stream",
     "text": [
      "40.000000 miles = 64.000000 km\n"
     ]
    }
   ],
   "source": [
    "mile2km(40)"
   ]
  },
  {
   "cell_type": "code",
   "execution_count": 7,
   "metadata": {},
   "outputs": [],
   "source": [
    "def complementary(seq):\n",
    "    \"\"\"\n",
    "    Convert a DNA seq to its complementary sequence.\n",
    "    \n",
    "    Input:\n",
    "    seq - string, combination of A, T, C, G\n",
    "    \n",
    "    Output:\n",
    "    string, complementary sequence to input seq\n",
    "    \n",
    "    \"\"\"\n",
    "    comp_n_table = {'A': 'T', 'T': 'A', 'C': 'G', 'G': 'C'} # look-up table for complementary nucleotide\n",
    "    comp_seq = ''\n",
    "    \n",
    "    for n in seq:\n",
    "        comp_n = comp_n_table[n] # convert n to its complementary nucleotide\n",
    "        comp_seq = comp_seq + comp_n # append to new seq\n",
    "        \n",
    "    return comp_seq"
   ]
  },
  {
   "cell_type": "code",
   "execution_count": 8,
   "metadata": {},
   "outputs": [
    {
     "data": {
      "text/plain": [
       "'CTAATGT'"
      ]
     },
     "execution_count": 8,
     "metadata": {},
     "output_type": "execute_result"
    }
   ],
   "source": [
    "complementary('GATTACA')"
   ]
  },
  {
   "cell_type": "code",
   "execution_count": 10,
   "metadata": {},
   "outputs": [
    {
     "name": "stdout",
     "output_type": "stream",
     "text": [
      "0\n",
      "1\n",
      "2\n",
      "3\n",
      "4\n",
      "5\n",
      "6\n",
      "7\n",
      "8\n",
      "9\n"
     ]
    }
   ],
   "source": [
    "for i in range(10):\n",
    "    print(i)"
   ]
  },
  {
   "cell_type": "code",
   "execution_count": 11,
   "metadata": {},
   "outputs": [],
   "source": [
    "def can_i_enter_lab(curr_occupancy):\n",
    "    \"\"\"\n",
    "    Tell me if I can enter the lab\n",
    "    \n",
    "    Input:\n",
    "    curr_occupancy - integer\n",
    "    \n",
    "    Output:\n",
    "    string, 'Yes or no'\n",
    "    \n",
    "    \"\"\"\n",
    "    max_occupancy = 5\n",
    "    \n",
    "    after_occupancy = curr_occupancy + 1\n",
    "    \n",
    "    if after_occupancy > max_occupancy:\n",
    "        \n",
    "        print(\"No. Please come back later!\")\n",
    "        \n",
    "    else: # elif can also work\n",
    "        \n",
    "        print(\"Yes. Please go ahead.\")\n",
    "    "
   ]
  },
  {
   "cell_type": "code",
   "execution_count": 12,
   "metadata": {},
   "outputs": [
    {
     "name": "stdout",
     "output_type": "stream",
     "text": [
      "No. Please come back later!\n"
     ]
    }
   ],
   "source": [
    "can_i_enter_lab(5)"
   ]
  },
  {
   "cell_type": "code",
   "execution_count": 13,
   "metadata": {},
   "outputs": [
    {
     "name": "stdout",
     "output_type": "stream",
     "text": [
      "Yes. Please go ahead.\n"
     ]
    }
   ],
   "source": [
    "can_i_enter_lab(3)"
   ]
  },
  {
   "cell_type": "code",
   "execution_count": null,
   "metadata": {},
   "outputs": [],
   "source": []
  }
 ],
 "metadata": {
  "kernelspec": {
   "display_name": "Python 3",
   "language": "python",
   "name": "python3"
  },
  "language_info": {
   "codemirror_mode": {
    "name": "ipython",
    "version": 3
   },
   "file_extension": ".py",
   "mimetype": "text/x-python",
   "name": "python",
   "nbconvert_exporter": "python",
   "pygments_lexer": "ipython3",
   "version": "3.7.6"
  }
 },
 "nbformat": 4,
 "nbformat_minor": 4
}
