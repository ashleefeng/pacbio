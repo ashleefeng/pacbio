{
 "cells": [
  {
   "cell_type": "code",
   "execution_count": 6,
   "metadata": {},
   "outputs": [],
   "source": [
    "import numpy as np\n",
    "import h5py\n",
    "import matplotlib.pyplot as plt\n",
    "import xml.etree.ElementTree as ET\n",
    "from time import time\n",
    "import os.path as path\n",
    "from functions import utils"
   ]
  },
  {
   "cell_type": "markdown",
   "metadata": {},
   "source": [
    "## User input"
   ]
  },
  {
   "cell_type": "code",
   "execution_count": 7,
   "metadata": {},
   "outputs": [],
   "source": [
    "sample_file = utils.gui_fname().decode(\"utf-8\")"
   ]
  },
  {
   "cell_type": "code",
   "execution_count": 3,
   "metadata": {},
   "outputs": [],
   "source": [
    "background_filename = utils.gui_fname().decode(\"utf-8\")"
   ]
  },
  {
   "cell_type": "code",
   "execution_count": 6,
   "metadata": {},
   "outputs": [
    {
     "ename": "TypeError",
     "evalue": "a bytes-like object is required, not 'str'",
     "output_type": "error",
     "traceback": [
      "\u001b[1;31m---------------------------------------------------------------------------\u001b[0m",
      "\u001b[1;31mTypeError\u001b[0m                                 Traceback (most recent call last)",
      "\u001b[1;32m<ipython-input-6-a99003139a12>\u001b[0m in \u001b[0;36m<module>\u001b[1;34m()\u001b[0m\n\u001b[1;32m----> 1\u001b[1;33m \u001b[0mtokens\u001b[0m \u001b[1;33m=\u001b[0m \u001b[0msample_file\u001b[0m\u001b[1;33m.\u001b[0m\u001b[0msplit\u001b[0m\u001b[1;33m(\u001b[0m\u001b[1;34m'/'\u001b[0m\u001b[1;33m)\u001b[0m\u001b[1;33m\u001b[0m\u001b[0m\n\u001b[0m\u001b[0;32m      2\u001b[0m \u001b[0mbase\u001b[0m \u001b[1;33m=\u001b[0m \u001b[0mpath\u001b[0m\u001b[1;33m.\u001b[0m\u001b[0mbasename\u001b[0m\u001b[1;33m(\u001b[0m\u001b[0msample_file\u001b[0m\u001b[1;33m)\u001b[0m\u001b[1;33m\u001b[0m\u001b[0m\n\u001b[0;32m      3\u001b[0m \u001b[0mabs_dir\u001b[0m \u001b[1;33m=\u001b[0m \u001b[0mpath\u001b[0m\u001b[1;33m.\u001b[0m\u001b[0mdirname\u001b[0m\u001b[1;33m(\u001b[0m\u001b[0msample_file\u001b[0m\u001b[1;33m)\u001b[0m\u001b[1;33m\u001b[0m\u001b[0m\n\u001b[0;32m      4\u001b[0m \u001b[0mprefix\u001b[0m \u001b[1;33m=\u001b[0m \u001b[0mbase\u001b[0m\u001b[1;33m.\u001b[0m\u001b[0msplit\u001b[0m\u001b[1;33m(\u001b[0m\u001b[1;34m'.'\u001b[0m\u001b[1;33m)\u001b[0m\u001b[1;33m[\u001b[0m\u001b[1;36m0\u001b[0m\u001b[1;33m]\u001b[0m\u001b[1;33m\u001b[0m\u001b[0m\n\u001b[0;32m      5\u001b[0m \u001b[0msample_prefix\u001b[0m \u001b[1;33m=\u001b[0m \u001b[0mabs_dir\u001b[0m \u001b[1;33m+\u001b[0m \u001b[1;34m'/'\u001b[0m \u001b[1;33m+\u001b[0m \u001b[0mprefix\u001b[0m\u001b[1;33m\u001b[0m\u001b[0m\n",
      "\u001b[1;31mTypeError\u001b[0m: a bytes-like object is required, not 'str'"
     ]
    }
   ],
   "source": [
    "tokens = sample_file.split('/')\n",
    "base = path.basename(sample_file)\n",
    "abs_dir = path.dirname(sample_file)\n",
    "prefix = base.split('.')[0]\n",
    "sample_prefix = abs_dir + '/' + prefix"
   ]
  },
  {
   "cell_type": "code",
   "execution_count": null,
   "metadata": {},
   "outputs": [],
   "source": [
    "color1 = 0\n",
    "color2 = 2\n",
    "leakage = np.array([[0.        , 0.48921841, 0.09134705, 0.02373513],\n",
    "       [0.        , 0.        , 0.        , 0.        ],\n",
    "       [0.        , 0.        , 0.        , 0.3349036856391455],\n",
    "       [0.        , 0.        , 0.        , 0.        ]])\n",
    "gamma = np.ones((4,))\n",
    "gamma[2] = 1.3709926961993117"
   ]
  },
  {
   "cell_type": "code",
   "execution_count": null,
   "metadata": {},
   "outputs": [],
   "source": [
    "# def plot_one_trace(data, traceID, time_axis):\n",
    "# #     plt.figure(figsize=(15, 2))\n",
    "#     trc = data[traceID]\n",
    "#     shape = data.shape\n",
    "#     if len(shape) == 2:\n",
    "#         plt.plot(time_axis, trc)\n",
    "#     else:\n",
    "#         n_channels = data.shape[1]\n",
    "#         for j in range(n_channels):\n",
    "#             plt.plot(time_axis, trc[j], color=colors[j], linewidth=0.5)\n",
    "#         plt.xlabel('Time (s)')\n",
    "#         plt.ylabel('Intensity')\n",
    "#         plt.title('Trace ' + str(traceID))"
   ]
  },
  {
   "cell_type": "code",
   "execution_count": null,
   "metadata": {},
   "outputs": [],
   "source": [
    "# def plot_traces(n, data, indices, time_axis):\n",
    "#     plt.figure(figsize=(15, n*2))\n",
    "# #     if n % 2 == 1:\n",
    "# #         n = n-1\n",
    "#     for i in range(n):\n",
    "#         plt.subplot(n, 1, i+1)\n",
    "#         plot_one_trace(data, indices[i], time_axis)\n",
    "# #         \n",
    "# #         if len(data.shape) == 2:\n",
    "# #             plt.plot(time_axis, trc)\n",
    "# #         else:\n",
    "# #             for j in range(data.shape[1]):\n",
    "# #                 plt.plot(time_axis, trc[j], color=colors[j], linewidth=0.5)\n",
    "\n",
    "# #         plt.xlabel('Time (s)')\n",
    "# #         plt.ylabel('Intensity')\n",
    "# #         plt.title('Trace ' + str(indices[i]))\n",
    "#     plt.subplots_adjust(hspace=0.9)"
   ]
  },
  {
   "cell_type": "code",
   "execution_count": null,
   "metadata": {},
   "outputs": [],
   "source": [
    "# def plot_traces_caller(n, toi, sorting_index, time_axis, foi, start, end, dyes, save=True):\n",
    "#     plot_traces(n, toi, sorting_index[start:end], time_axis[foi])\n",
    "#     filename = \"%s_%d-%d_most_%s_anticorrelated.png\" %(sample_prefix, start, end, dyes)\n",
    "#     if save:\n",
    "#         plt.savefig(filename, dpi=200)"
   ]
  },
  {
   "cell_type": "code",
   "execution_count": null,
   "metadata": {},
   "outputs": [],
   "source": [
    "# def decode_and_plot(traces, traceID, decode_array, colors, foi, background, gamma, leakage, channels):\n",
    "# #     channels = range(4)\n",
    "#     trace = decode_array[traces[traceID]]\n",
    "#     plt.figure(figsize=(13,4))   \n",
    "    \n",
    "#     for i in channels:\n",
    "#         trace[i] = trace[i] - background[i]\n",
    "#         print(i, np.mean(trace[i, -10:]))\n",
    "#         trace[i] = trace[i]*gamma[i]\n",
    "#         for j in channels:\n",
    "#             trace[i] = trace[i] - trace[j] * leakage[j, i]\n",
    "    \n",
    "#     for j in channels:\n",
    "#         plt.plot(time_axis[foi], trace[j], color=colors[j], linewidth=0.4, alpha=0.9)\n",
    "\n",
    "#     plt.xlabel('Time (s)')\n",
    "#     plt.ylabel('Intensity')\n",
    "#     plt.legend(lasers, bbox_to_anchor=(0.75, 0.5, 0.5, 0.5))\n",
    "    \n",
    "#     plt.figure(figsize=(13,4))\n",
    "#     don = trace[0]\n",
    "#     acc = trace[2]\n",
    "#     fret = acc/(don + acc)\n",
    "#     plt.plot(time_axis[foi], fret, linewidth=0.4)\n",
    "#     plt.ylim([-0.1, 1.1])\n",
    "#     print(fret)\n",
    "    \n",
    "#     plt.xlabel('Time (s)')\n",
    "#     plt.ylabel('FRET efficiency')\n",
    "    \n",
    "#     return fret\n"
   ]
  },
  {
   "cell_type": "markdown",
   "metadata": {},
   "source": [
    "## Load data"
   ]
  },
  {
   "cell_type": "code",
   "execution_count": null,
   "metadata": {},
   "outputs": [],
   "source": [
    "start = time()\n",
    "trc_filename = sample_prefix + '.trc.h5'\n",
    "mcd_filename = sample_prefix + '.mcd.h5'\n",
    "upd_filename = sample_prefix + '.upd.h5'\n",
    "meta_filename = sample_prefix + '.metadata.xml'\n",
    "\n",
    "trc_file = h5py.File(trc_filename, 'r')\n",
    "mcd_file = h5py.File(mcd_filename, 'r')\n",
    "upd_file = h5py.File(upd_filename, 'r')\n",
    "\n",
    "# Load data in trace file\n",
    "dset = trc_file['TraceData']\n",
    "raw_traces = dset['Traces']\n",
    "decode = dset['Codec']['Decode']\n",
    "n_traces = raw_traces.shape[0]\n",
    "n_frames = raw_traces.shape[2]\n",
    "decode_array = np.array(decode)\n",
    "\n",
    "# Load data in upd file\n",
    "upd_TD = upd_file['TraceData']\n",
    "hole_xy_plot = upd_TD['HoleXYPlot'] # (x,y) coordinates for each well\n",
    "hole_status = upd_TD['HoleStatus'] # fiducials\n",
    "\n",
    "# Extract frame rate from metadata\n",
    "meta_tree = ET.parse(meta_filename)\n",
    "root = meta_tree.getroot()\n",
    "for keyval in root.iter('{http://pacificbiosciences.com/PAP/Metadata.xsd}KeyValue'):\n",
    "    if keyval.attrib['key'] == 'MovieFPS':\n",
    "        fps = int(keyval.text)\n",
    "        frame_rate = 1.0/fps # seconds\n",
    "        break\n",
    "\n",
    "# For plotting\n",
    "time_axis = np.arange(n_frames)*frame_rate\n",
    "colors = ['green', (0, 1, 0), 'red', 'orange']\n",
    "lasers = ['Cy3', 'Cy3.5', 'Cy5', 'Cy5.5']\n",
    "\n",
    "bg_file = open(background_file, \"rb\")\n",
    "bg = np.loadtxt(bg_file, delimiter=\",\")\n",
    "\n",
    "print(\"Time passed: \" + str(time() - start))"
   ]
  },
  {
   "cell_type": "code",
   "execution_count": null,
   "metadata": {},
   "outputs": [],
   "source": [
    "traces = raw_traces # skipping decode step to save memory"
   ]
  },
  {
   "cell_type": "markdown",
   "metadata": {},
   "source": [
    "## Preprocessing"
   ]
  },
  {
   "cell_type": "code",
   "execution_count": null,
   "metadata": {},
   "outputs": [],
   "source": [
    "foi = range(start_frame, end_frame) # frames of interest\n",
    "n_frames = len(foi)\n",
    "\n",
    "first_10_frames = np.zeros((n_traces, 4, 10), dtype=np.uint8)\n",
    "first_10_frames = raw_traces[:, :, range(start_frame, start_frame + 10)]\n",
    "avg_intens = np.mean(first_10_frames, axis=2)\n",
    "\n",
    "avg_intens_bgs = np.zeros((n_traces, 4), dtype=np.int16)\n",
    "\n",
    "for i in range(n_traces):\n",
    "    new_intens = avg_intens[i] - bg[i]\n",
    "    avg_intens_bgs[i]= new_intens"
   ]
  },
  {
   "cell_type": "markdown",
   "metadata": {},
   "source": [
    "## Plot intensity distributions"
   ]
  },
  {
   "cell_type": "code",
   "execution_count": null,
   "metadata": {},
   "outputs": [],
   "source": [
    "plt.figure()\n",
    "for i in range(4):\n",
    "    avg_intens_i = avg_intens.T[i]\n",
    "    min_i = min(avg_intens_i)\n",
    "    max_i = max(avg_intens_i)\n",
    "    plt.hist(avg_intens_i, bins=100, range=[min_i, max_i], histtype='step', color=colors[i])\n",
    "    \n",
    "plt.xlabel('Intensity')\n",
    "plt.ylabel('Count')\n",
    "plt.title(\"Before filtering\")\n",
    "plt.legend(lasers)\n",
    "plt.savefig(sample_prefix + '_intensity_hist.png', dpi=200)\n",
    "\n",
    "\n",
    "plt.figure()\n",
    "for i in range(4):\n",
    "    bg_i = bg.T[i]\n",
    "    min_i = min(bg_i)\n",
    "    max_i = max(bg_i)\n",
    "    plt.hist(bg_i, bins=100, range=[min_i, max_i], histtype='step', color=colors[i])\n",
    "    \n",
    "plt.xlabel('Intensity')\n",
    "plt.ylabel('Count')\n",
    "plt.title(\"Background\")\n",
    "plt.legend(lasers)\n",
    "plt.savefig(sample_prefix + \"_background_hist.png\", dpi=200)\n",
    "\n",
    "plt.figure()\n",
    "for i in range(4):\n",
    "    color_i = avg_intens_bgs.T[i]\n",
    "    min_i = min(color_i)\n",
    "    max_i = max(color_i)\n",
    "    plt.hist(color_i, bins=50, range=[min_i, max_i], histtype='step', color=colors[i])\n",
    "    \n",
    "plt.xlabel('Intensity')\n",
    "plt.ylabel('Count')\n",
    "plt.title(\"First 10 frames avg intens after bgs\")\n",
    "plt.legend(lasers)\n",
    "plt.savefig(sample_prefix + '_intensity_hist_after_bgs.png', dpi=200)"
   ]
  },
  {
   "cell_type": "code",
   "execution_count": null,
   "metadata": {},
   "outputs": [],
   "source": [
    "plt.figure(figsize=(7.5, 6))\n",
    "for i in range(4):\n",
    "    plt.subplot(2, 2, i+1)\n",
    "    plt.scatter(hole_xy_plot[:, 0], hole_xy_plot[:, 1], hole_status)\n",
    "    plt.scatter(hole_xy_plot[:, 0], hole_xy_plot[:, 1], 1, avg_intens.T[i])\n",
    "    plt.title(lasers[i] + ' intensity')\n",
    "    plt.colorbar()\n",
    "plt.subplots_adjust(hspace=0.3)\n",
    "plt.title(\"Before filtering\")\n",
    "plt.savefig(sample_prefix + '_grid.png')\n",
    "plt.show()\n",
    "\n",
    "plt.figure(figsize=(7.5, 6))\n",
    "for i in range(4):\n",
    "    plt.subplot(2, 2, i+1)\n",
    "    plt.scatter(hole_xy_plot[:, 0], hole_xy_plot[:, 1], hole_status)\n",
    "    plt.scatter(hole_xy_plot[:, 0], hole_xy_plot[:, 1], 1, avg_intens_bgs.T[i])\n",
    "    plt.title(lasers[i] + ' intensity')\n",
    "    plt.colorbar()\n",
    "plt.subplots_adjust(hspace=0.3)\n",
    "# plt.title(\"Before background subtraction\")\n",
    "plt.savefig(sample_prefix + '_grid_bgs.png')\n",
    "plt.show()"
   ]
  },
  {
   "cell_type": "markdown",
   "metadata": {},
   "source": [
    "## Filtering for wells that have desired intensity"
   ]
  },
  {
   "cell_type": "code",
   "execution_count": null,
   "metadata": {},
   "outputs": [],
   "source": [
    "channel = 2\n",
    "low = 30\n",
    "high = 180\n",
    "sele_traces = []\n",
    "\n",
    "for i in range(n_traces):\n",
    "    if avg_intens_bgs[i, channel] > low and avg_intens_bgs[i, channel] < high:\n",
    "        sele_traces.append(i)\n",
    "\n",
    "print(\"%d traces have desired intensity range.\" %len(sele_traces))"
   ]
  },
  {
   "cell_type": "code",
   "execution_count": null,
   "metadata": {},
   "outputs": [],
   "source": [
    "# display selected traces\n",
    "count = 0\n",
    "end_high = 20\n",
    "\n",
    "for i in range(1800, 2000):\n",
    "    traceID = sele_traces[i]\n",
    "    last_10_frames = raw_traces[traceID, channel, [end_frame-10, end_frame]] - bg[traceID, channel]\n",
    "    end_avg = np.mean(last_10_frames)\n",
    "    if end_avg < end_high:\n",
    "        plt.figure(figsize=(13,2))\n",
    "        plot_one_trace_bgs(raw_traces, traceID, time_axis, bg, foi)\n",
    "        count += 1\n",
    "\n",
    "print(\"Showing %d traces.\" %count)"
   ]
  }
 ],
 "metadata": {
  "kernelspec": {
   "display_name": "Python 3",
   "language": "python",
   "name": "python3"
  },
  "language_info": {
   "codemirror_mode": {
    "name": "ipython",
    "version": 3
   },
   "file_extension": ".py",
   "mimetype": "text/x-python",
   "name": "python",
   "nbconvert_exporter": "python",
   "pygments_lexer": "ipython3",
   "version": "3.7.0"
  }
 },
 "nbformat": 4,
 "nbformat_minor": 2
}
